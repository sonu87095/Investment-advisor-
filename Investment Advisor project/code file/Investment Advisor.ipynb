{
 "cells": [
  {
   "cell_type": "markdown",
   "metadata": {
    "id": "uQy0z-ShoAI6"
   },
   "source": [
    "1.Created an API Service account. - https://youtu.be/ddf5Z0aQPzY\n",
    "\n",
    "\n",
    "2.Importing necessary libraries.\n",
    "\n",
    "\n"
   ]
  },
  {
   "cell_type": "markdown",
   "metadata": {
    "id": "kP0lFFmX2yix"
   },
   "source": [
    "# SUBTASK 1\n",
    "- To populate the Final Report(Google Sheet) using python"
   ]
  },
  {
   "cell_type": "code",
   "execution_count": 1,
   "metadata": {
    "id": "OH0UzMCWaQSf"
   },
   "outputs": [],
   "source": [
    "from oauth2client.service_account import ServiceAccountCredentials\n",
    "import gspread as gs"
   ]
  },
  {
   "cell_type": "markdown",
   "metadata": {
    "id": "kcq-u17T1729"
   },
   "source": [
    "## Authorizing Credentials"
   ]
  },
  {
   "cell_type": "code",
   "execution_count": 2,
   "metadata": {
    "id": "MHAJbCRzanIF"
   },
   "outputs": [],
   "source": [
    "scope =[\"https://spreadsheets.google.com/feeds\",'https://www.googleapis.com/auth/spreadsheets',\n",
    "        \"https://www.googleapis.com/auth/drive.file\",\"https://www.googleapis.com/auth/drive\"]\n"
   ]
  },
  {
   "cell_type": "code",
   "execution_count": 3,
   "metadata": {
    "id": "peECDzt4bJ1S"
   },
   "outputs": [],
   "source": [
    "creds =ServiceAccountCredentials.from_json_keyfile_name(r\"C:\\Users\\MAHESH DETHE\\Downloads\\GROUP PROJECT API KEY.json\", scope)\n",
    "\n"
   ]
  },
  {
   "cell_type": "code",
   "execution_count": 4,
   "metadata": {
    "id": "4mkepCmVtH7a"
   },
   "outputs": [],
   "source": [
    "client = gs.authorize(creds)"
   ]
  },
  {
   "cell_type": "markdown",
   "metadata": {
    "id": "FVdpU5QTrAM7"
   },
   "source": [
    "## Importing gspread dataframe"
   ]
  },
  {
   "cell_type": "code",
   "execution_count": 5,
   "metadata": {
    "id": "x1QusvVYrHma"
   },
   "outputs": [],
   "source": [
    "import gspread_dataframe as gd"
   ]
  },
  {
   "cell_type": "markdown",
   "metadata": {
    "id": "XT8NRizMpXuR"
   },
   "source": [
    "- Defining the sheets and dataframes"
   ]
  },
  {
   "cell_type": "code",
   "execution_count": 6,
   "metadata": {
    "id": "WQbeG7zkt_VN"
   },
   "outputs": [],
   "source": [
    "file1 = client.open(\"BSE500\").sheet1\n",
    "file2 = client.open(\"Income&Expense\").sheet1\n",
    "file3 = client.open(\"Final Report\").sheet1"
   ]
  },
  {
   "cell_type": "code",
   "execution_count": 7,
   "metadata": {
    "id": "sDjo0SlDuiNw"
   },
   "outputs": [],
   "source": [
    "BSE = gd.get_as_dataframe(file1)\n",
    "IncExp = gd.get_as_dataframe(file2)\n",
    "Report = gd.get_as_dataframe(file3)\n"
   ]
  },
  {
   "cell_type": "code",
   "execution_count": 8,
   "metadata": {
    "colab": {
     "base_uri": "https://localhost:8080/",
     "height": 310
    },
    "id": "6M3Y0jNmu1ib",
    "outputId": "4e106ff6-5bc8-4db4-b6a5-b815e0175811"
   },
   "outputs": [
    {
     "data": {
      "text/html": [
       "<div>\n",
       "<style scoped>\n",
       "    .dataframe tbody tr th:only-of-type {\n",
       "        vertical-align: middle;\n",
       "    }\n",
       "\n",
       "    .dataframe tbody tr th {\n",
       "        vertical-align: top;\n",
       "    }\n",
       "\n",
       "    .dataframe thead th {\n",
       "        text-align: right;\n",
       "    }\n",
       "</style>\n",
       "<table border=\"1\" class=\"dataframe\">\n",
       "  <thead>\n",
       "    <tr style=\"text-align: right;\">\n",
       "      <th></th>\n",
       "      <th>Company</th>\n",
       "      <th>BSE code</th>\n",
       "      <th>NSE code</th>\n",
       "      <th>ISIN</th>\n",
       "      <th>Sector</th>\n",
       "      <th>Industry</th>\n",
       "      <th>Date</th>\n",
       "      <th>Price</th>\n",
       "      <th>1 day change(%)</th>\n",
       "      <th>52 Week Low</th>\n",
       "      <th>...</th>\n",
       "      <th>Dividend Yield(%)</th>\n",
       "      <th>EV / EBITDA</th>\n",
       "      <th>Price / Sales</th>\n",
       "      <th>Price / Cash Flow</th>\n",
       "      <th>Earning Per Share</th>\n",
       "      <th>Book Value Per Share</th>\n",
       "      <th>Cash Flow Per Share</th>\n",
       "      <th>Free Cash Flow Per Share</th>\n",
       "      <th>Dividend Per Share</th>\n",
       "      <th>Delta</th>\n",
       "    </tr>\n",
       "  </thead>\n",
       "  <tbody>\n",
       "    <tr>\n",
       "      <th>0</th>\n",
       "      <td>Sanofi India Ltd.</td>\n",
       "      <td>500674.0</td>\n",
       "      <td>SANOFI</td>\n",
       "      <td>INE058A01010</td>\n",
       "      <td>Healthcare</td>\n",
       "      <td>Drugs &amp; Pharma</td>\n",
       "      <td>2022-09-05</td>\n",
       "      <td>6158.7</td>\n",
       "      <td>0.593726</td>\n",
       "      <td>6086.3</td>\n",
       "      <td>...</td>\n",
       "      <td>7.9533</td>\n",
       "      <td>16.682293</td>\n",
       "      <td>4.980927</td>\n",
       "      <td>25.392209</td>\n",
       "      <td>425.0862</td>\n",
       "      <td>631.6506</td>\n",
       "      <td>242.956522</td>\n",
       "      <td>459.217391</td>\n",
       "      <td>490.0</td>\n",
       "      <td>0.279073</td>\n",
       "    </tr>\n",
       "    <tr>\n",
       "      <th>1</th>\n",
       "      <td>Page Industries Ltd.</td>\n",
       "      <td>532827.0</td>\n",
       "      <td>PAGEIND</td>\n",
       "      <td>INE761H01022</td>\n",
       "      <td>Textiles</td>\n",
       "      <td>Readymade Garments</td>\n",
       "      <td>2022-09-05</td>\n",
       "      <td>49786.2</td>\n",
       "      <td>-0.259937</td>\n",
       "      <td>31500.0</td>\n",
       "      <td>...</td>\n",
       "      <td>0.7433</td>\n",
       "      <td>51.785329</td>\n",
       "      <td>11.748089</td>\n",
       "      <td>169.843663</td>\n",
       "      <td>656.8292</td>\n",
       "      <td>1161.6259</td>\n",
       "      <td>293.088578</td>\n",
       "      <td>191.031917</td>\n",
       "      <td>370.0</td>\n",
       "      <td>0.033278</td>\n",
       "    </tr>\n",
       "  </tbody>\n",
       "</table>\n",
       "<p>2 rows × 42 columns</p>\n",
       "</div>"
      ],
      "text/plain": [
       "                Company  BSE code NSE code          ISIN      Sector  \\\n",
       "0     Sanofi India Ltd.  500674.0   SANOFI  INE058A01010  Healthcare   \n",
       "1  Page Industries Ltd.  532827.0  PAGEIND  INE761H01022    Textiles   \n",
       "\n",
       "             Industry        Date    Price  1 day change(%)  52 Week Low  ...  \\\n",
       "0      Drugs & Pharma  2022-09-05   6158.7         0.593726       6086.3  ...   \n",
       "1  Readymade Garments  2022-09-05  49786.2        -0.259937      31500.0  ...   \n",
       "\n",
       "   Dividend Yield(%)  EV / EBITDA  Price / Sales  Price / Cash Flow  \\\n",
       "0             7.9533    16.682293       4.980927          25.392209   \n",
       "1             0.7433    51.785329      11.748089         169.843663   \n",
       "\n",
       "   Earning Per Share  Book Value Per Share  Cash Flow Per Share  \\\n",
       "0           425.0862              631.6506           242.956522   \n",
       "1           656.8292             1161.6259           293.088578   \n",
       "\n",
       "   Free Cash Flow Per Share  Dividend Per Share     Delta  \n",
       "0                459.217391               490.0  0.279073  \n",
       "1                191.031917               370.0  0.033278  \n",
       "\n",
       "[2 rows x 42 columns]"
      ]
     },
     "execution_count": 8,
     "metadata": {},
     "output_type": "execute_result"
    }
   ],
   "source": [
    "BSE.head(2)"
   ]
  },
  {
   "cell_type": "code",
   "execution_count": 9,
   "metadata": {
    "colab": {
     "base_uri": "https://localhost:8080/",
     "height": 292
    },
    "id": "hkHP7ATku3xD",
    "outputId": "f692e322-4c55-44d8-940e-c1c2cb7e6c14"
   },
   "outputs": [
    {
     "data": {
      "text/html": [
       "<div>\n",
       "<style scoped>\n",
       "    .dataframe tbody tr th:only-of-type {\n",
       "        vertical-align: middle;\n",
       "    }\n",
       "\n",
       "    .dataframe tbody tr th {\n",
       "        vertical-align: top;\n",
       "    }\n",
       "\n",
       "    .dataframe thead th {\n",
       "        text-align: right;\n",
       "    }\n",
       "</style>\n",
       "<table border=\"1\" class=\"dataframe\">\n",
       "  <thead>\n",
       "    <tr style=\"text-align: right;\">\n",
       "      <th></th>\n",
       "      <th>Date</th>\n",
       "      <th>Account</th>\n",
       "      <th>Category</th>\n",
       "      <th>Subcategory</th>\n",
       "      <th>Note</th>\n",
       "      <th>INR</th>\n",
       "      <th>Income/Expense</th>\n",
       "      <th>Note.1</th>\n",
       "      <th>Amount</th>\n",
       "      <th>Currency</th>\n",
       "      <th>...</th>\n",
       "      <th>Unnamed: 16</th>\n",
       "      <th>Unnamed: 17</th>\n",
       "      <th>Unnamed: 18</th>\n",
       "      <th>Unnamed: 19</th>\n",
       "      <th>Unnamed: 20</th>\n",
       "      <th>Unnamed: 21</th>\n",
       "      <th>Unnamed: 22</th>\n",
       "      <th>Unnamed: 23</th>\n",
       "      <th>Unnamed: 24</th>\n",
       "      <th>Unnamed: 25</th>\n",
       "    </tr>\n",
       "  </thead>\n",
       "  <tbody>\n",
       "    <tr>\n",
       "      <th>0</th>\n",
       "      <td>3/2/2022 10:11</td>\n",
       "      <td>CUB - online payment</td>\n",
       "      <td>Food</td>\n",
       "      <td>NaN</td>\n",
       "      <td>Brownie</td>\n",
       "      <td>50.0</td>\n",
       "      <td>Expense</td>\n",
       "      <td>NaN</td>\n",
       "      <td>50.0</td>\n",
       "      <td>INR</td>\n",
       "      <td>...</td>\n",
       "      <td>NaN</td>\n",
       "      <td>NaN</td>\n",
       "      <td>NaN</td>\n",
       "      <td>NaN</td>\n",
       "      <td>NaN</td>\n",
       "      <td>NaN</td>\n",
       "      <td>NaN</td>\n",
       "      <td>NaN</td>\n",
       "      <td>NaN</td>\n",
       "      <td>NaN</td>\n",
       "    </tr>\n",
       "    <tr>\n",
       "      <th>1</th>\n",
       "      <td>3/2/2022 10:11</td>\n",
       "      <td>CUB - online payment</td>\n",
       "      <td>Other</td>\n",
       "      <td>NaN</td>\n",
       "      <td>To lended people</td>\n",
       "      <td>300.0</td>\n",
       "      <td>Expense</td>\n",
       "      <td>NaN</td>\n",
       "      <td>300.0</td>\n",
       "      <td>INR</td>\n",
       "      <td>...</td>\n",
       "      <td>NaN</td>\n",
       "      <td>NaN</td>\n",
       "      <td>NaN</td>\n",
       "      <td>NaN</td>\n",
       "      <td>NaN</td>\n",
       "      <td>NaN</td>\n",
       "      <td>NaN</td>\n",
       "      <td>NaN</td>\n",
       "      <td>NaN</td>\n",
       "      <td>NaN</td>\n",
       "    </tr>\n",
       "  </tbody>\n",
       "</table>\n",
       "<p>2 rows × 26 columns</p>\n",
       "</div>"
      ],
      "text/plain": [
       "             Date               Account Category  Subcategory  \\\n",
       "0  3/2/2022 10:11  CUB - online payment     Food          NaN   \n",
       "1  3/2/2022 10:11  CUB - online payment    Other          NaN   \n",
       "\n",
       "               Note    INR Income/Expense  Note.1  Amount Currency  ...  \\\n",
       "0           Brownie   50.0        Expense     NaN    50.0      INR  ...   \n",
       "1  To lended people  300.0        Expense     NaN   300.0      INR  ...   \n",
       "\n",
       "   Unnamed: 16  Unnamed: 17  Unnamed: 18 Unnamed: 19  Unnamed: 20  \\\n",
       "0          NaN          NaN          NaN         NaN          NaN   \n",
       "1          NaN          NaN          NaN         NaN          NaN   \n",
       "\n",
       "   Unnamed: 21  Unnamed: 22  Unnamed: 23  Unnamed: 24  Unnamed: 25  \n",
       "0          NaN          NaN          NaN          NaN          NaN  \n",
       "1          NaN          NaN          NaN          NaN          NaN  \n",
       "\n",
       "[2 rows x 26 columns]"
      ]
     },
     "execution_count": 9,
     "metadata": {},
     "output_type": "execute_result"
    }
   ],
   "source": [
    "IncExp.head(2)"
   ]
  },
  {
   "cell_type": "code",
   "execution_count": 10,
   "metadata": {
    "colab": {
     "base_uri": "https://localhost:8080/"
    },
    "id": "dLozB1kVFSlv",
    "outputId": "8492b88b-72c2-4253-fe16-61b0aed7c064"
   },
   "outputs": [
    {
     "data": {
      "text/plain": [
       "Index(['Date', 'Account', 'Category', 'Subcategory', 'Note', 'INR',\n",
       "       'Income/Expense', 'Note.1', 'Amount', 'Currency', 'Account.1',\n",
       "       'Unnamed: 11', 'Unnamed: 12', 'Unnamed: 13', 'Unnamed: 14',\n",
       "       'Unnamed: 15', 'Unnamed: 16', 'Unnamed: 17', 'Unnamed: 18',\n",
       "       'Unnamed: 19', 'Unnamed: 20', 'Unnamed: 21', 'Unnamed: 22',\n",
       "       'Unnamed: 23', 'Unnamed: 24', 'Unnamed: 25'],\n",
       "      dtype='object')"
      ]
     },
     "execution_count": 10,
     "metadata": {},
     "output_type": "execute_result"
    }
   ],
   "source": [
    "IncExp.columns\n"
   ]
  },
  {
   "cell_type": "markdown",
   "metadata": {},
   "source": [
    "Calculating Net Income and Expense"
   ]
  },
  {
   "cell_type": "code",
   "execution_count": 11,
   "metadata": {
    "id": "J3KhoWKtg7Fi"
   },
   "outputs": [],
   "source": [
    "Net_inc = IncExp.loc[IncExp['Income/Expense'] == \"Income\",\"Account.1\"].sum().astype(float)"
   ]
  },
  {
   "cell_type": "code",
   "execution_count": 12,
   "metadata": {
    "id": "SKmLDfHty0jC"
   },
   "outputs": [],
   "source": [
    "Net_exp = IncExp.loc[IncExp['Income/Expense'] == \"Expense\",\"Account.1\"].sum().astype(float)"
   ]
  },
  {
   "cell_type": "code",
   "execution_count": 13,
   "metadata": {
    "colab": {
     "base_uri": "https://localhost:8080/"
    },
    "id": "PpwJyA3hg79h",
    "outputId": "79056c15-1162-42d9-d242-f9917b3f2a11"
   },
   "outputs": [
    {
     "data": {
      "text/plain": [
       "59209.0"
      ]
     },
     "execution_count": 13,
     "metadata": {},
     "output_type": "execute_result"
    }
   ],
   "source": [
    "Net_inc"
   ]
  },
  {
   "cell_type": "code",
   "execution_count": 58,
   "metadata": {},
   "outputs": [
    {
     "data": {
      "text/plain": [
       "57918.28"
      ]
     },
     "execution_count": 58,
     "metadata": {},
     "output_type": "execute_result"
    }
   ],
   "source": [
    "Net_exp"
   ]
  },
  {
   "cell_type": "markdown",
   "metadata": {},
   "source": [
    "Updating Income and Expense in Final Report"
   ]
  },
  {
   "cell_type": "code",
   "execution_count": 14,
   "metadata": {
    "colab": {
     "base_uri": "https://localhost:8080/"
    },
    "id": "8zAngJdkg9q3",
    "outputId": "21ec0267-0300-4b05-8de2-fbcb3889ae24"
   },
   "outputs": [
    {
     "data": {
      "text/plain": [
       "{'spreadsheetId': '17y_BoxosCm9C0oSr2S6J00E3T2qKmjLy6XRbccF1V5c',\n",
       " 'updatedRange': 'Sheet1!C8',\n",
       " 'updatedRows': 1,\n",
       " 'updatedColumns': 1,\n",
       " 'updatedCells': 1}"
      ]
     },
     "execution_count": 14,
     "metadata": {},
     "output_type": "execute_result"
    }
   ],
   "source": [
    "file3.update_cell(7,3,Net_inc)\n",
    "file3.update_cell(8,3,Net_exp)\n"
   ]
  },
  {
   "cell_type": "markdown",
   "metadata": {},
   "source": [
    "Updating Amt available for Investment in Final Report"
   ]
  },
  {
   "cell_type": "code",
   "execution_count": 15,
   "metadata": {
    "id": "r_-M2DHJzGto"
   },
   "outputs": [],
   "source": [
    "Invest_Rs = Net_inc - Net_exp"
   ]
  },
  {
   "cell_type": "code",
   "execution_count": 16,
   "metadata": {
    "colab": {
     "base_uri": "https://localhost:8080/"
    },
    "id": "CdUifT7K08wR",
    "outputId": "10a99930-995d-40f8-a0d4-a09bfadcdf8f"
   },
   "outputs": [
    {
     "data": {
      "text/plain": [
       "{'spreadsheetId': '17y_BoxosCm9C0oSr2S6J00E3T2qKmjLy6XRbccF1V5c',\n",
       " 'updatedRange': 'Sheet1!C24',\n",
       " 'updatedRows': 1,\n",
       " 'updatedColumns': 1,\n",
       " 'updatedCells': 1}"
      ]
     },
     "execution_count": 16,
     "metadata": {},
     "output_type": "execute_result"
    }
   ],
   "source": [
    "file3.update_cell(24,3,Invest_Rs)\n"
   ]
  },
  {
   "cell_type": "markdown",
   "metadata": {
    "id": "BQkAUrVn-4yB"
   },
   "source": [
    "Defining a function so that we don't have to do the copy pasting of our column name again and again."
   ]
  },
  {
   "cell_type": "code",
   "execution_count": 17,
   "metadata": {
    "id": "NVSMk7fI-3Y5"
   },
   "outputs": [],
   "source": [
    "def change():\n",
    "  k = input()\n",
    "  print(f\"{k} = IncExp.loc[IncExp['Category'] == '{k}','Account.1'].sum()\")\n",
    "  print(f\"file3.update_cell(21,3,{k})\")"
   ]
  },
  {
   "cell_type": "markdown",
   "metadata": {},
   "source": [
    "# Calculating Cost incurred in every section"
   ]
  },
  {
   "cell_type": "markdown",
   "metadata": {
    "id": "BPAuYit6CPGB"
   },
   "source": [
    "## Cost incurred in Food"
   ]
  },
  {
   "cell_type": "code",
   "execution_count": 18,
   "metadata": {
    "colab": {
     "base_uri": "https://localhost:8080/"
    },
    "id": "X6CiE9sJ1wFZ",
    "outputId": "bfcda638-2b80-43ec-f1c0-01a785ee483a"
   },
   "outputs": [
    {
     "data": {
      "text/plain": [
       "{'spreadsheetId': '17y_BoxosCm9C0oSr2S6J00E3T2qKmjLy6XRbccF1V5c',\n",
       " 'updatedRange': 'Sheet1!C10',\n",
       " 'updatedRows': 1,\n",
       " 'updatedColumns': 1,\n",
       " 'updatedCells': 1}"
      ]
     },
     "execution_count": 18,
     "metadata": {},
     "output_type": "execute_result"
    }
   ],
   "source": [
    "Food = IncExp.loc[IncExp['Category'] == \"Food\",\"Account.1\"].sum()\n",
    "#updating Total Food Cost in sheet\n",
    "file3.update_cell(10,3,Food)"
   ]
  },
  {
   "cell_type": "markdown",
   "metadata": {
    "id": "_JHSnf3gCL87"
   },
   "source": [
    "## Cost incurred in Other"
   ]
  },
  {
   "cell_type": "code",
   "execution_count": 19,
   "metadata": {
    "colab": {
     "base_uri": "https://localhost:8080/"
    },
    "id": "4HjL0evO2Uap",
    "outputId": "9791191b-35ce-4dd9-c0cc-29c26f899a02"
   },
   "outputs": [
    {
     "data": {
      "text/plain": [
       "{'spreadsheetId': '17y_BoxosCm9C0oSr2S6J00E3T2qKmjLy6XRbccF1V5c',\n",
       " 'updatedRange': 'Sheet1!C11',\n",
       " 'updatedRows': 1,\n",
       " 'updatedColumns': 1,\n",
       " 'updatedCells': 1}"
      ]
     },
     "execution_count": 19,
     "metadata": {},
     "output_type": "execute_result"
    }
   ],
   "source": [
    "Other = IncExp.loc[IncExp['Category'] == \"Other\",\"Account.1\"].sum()\n",
    "#updating Total Other cost in sheet\n",
    "file3.update_cell(11,3,Other)"
   ]
  },
  {
   "cell_type": "markdown",
   "metadata": {
    "id": "DOmTUrckCIPs"
   },
   "source": [
    "## Cost incurred in Transportation"
   ]
  },
  {
   "cell_type": "code",
   "execution_count": 20,
   "metadata": {
    "colab": {
     "base_uri": "https://localhost:8080/"
    },
    "id": "In418bBo2wWx",
    "outputId": "20250849-9607-4d9d-a14d-248ff6e8d353"
   },
   "outputs": [
    {
     "data": {
      "text/plain": [
       "{'spreadsheetId': '17y_BoxosCm9C0oSr2S6J00E3T2qKmjLy6XRbccF1V5c',\n",
       " 'updatedRange': 'Sheet1!C12',\n",
       " 'updatedRows': 1,\n",
       " 'updatedColumns': 1,\n",
       " 'updatedCells': 1}"
      ]
     },
     "execution_count": 20,
     "metadata": {},
     "output_type": "execute_result"
    }
   ],
   "source": [
    "Transportation = IncExp.loc[IncExp['Category'] == \"Transportation\",\"Account.1\"].sum()\n",
    "#updating Total Transportation cost in sheet\n",
    "file3.update_cell(12,3,Transportation)"
   ]
  },
  {
   "cell_type": "markdown",
   "metadata": {
    "id": "k_55SuYvCEq6"
   },
   "source": [
    "## Cost incurred in Social Life"
   ]
  },
  {
   "cell_type": "code",
   "execution_count": 21,
   "metadata": {
    "colab": {
     "base_uri": "https://localhost:8080/"
    },
    "id": "nIPR3YqF28jB",
    "outputId": "7f76173a-f44f-4a57-abe6-ea66347f565c"
   },
   "outputs": [
    {
     "data": {
      "text/plain": [
       "{'spreadsheetId': '17y_BoxosCm9C0oSr2S6J00E3T2qKmjLy6XRbccF1V5c',\n",
       " 'updatedRange': 'Sheet1!C13',\n",
       " 'updatedRows': 1,\n",
       " 'updatedColumns': 1,\n",
       " 'updatedCells': 1}"
      ]
     },
     "execution_count": 21,
     "metadata": {},
     "output_type": "execute_result"
    }
   ],
   "source": [
    "Social_Life = IncExp.loc[IncExp['Category'] == \"Social Life\",\"Account.1\"].sum()\n",
    "#updating Total Social Life cost in sheet\n",
    "file3.update_cell(13,3,Social_Life)"
   ]
  },
  {
   "cell_type": "markdown",
   "metadata": {
    "id": "YeFyPXukCCHZ"
   },
   "source": [
    "## Cost incurred in Household"
   ]
  },
  {
   "cell_type": "code",
   "execution_count": 22,
   "metadata": {
    "colab": {
     "base_uri": "https://localhost:8080/"
    },
    "id": "562XPN7t4alK",
    "outputId": "da415e59-4ba9-4613-95cc-6c8238ebda88"
   },
   "outputs": [
    {
     "data": {
      "text/plain": [
       "{'spreadsheetId': '17y_BoxosCm9C0oSr2S6J00E3T2qKmjLy6XRbccF1V5c',\n",
       " 'updatedRange': 'Sheet1!C14',\n",
       " 'updatedRows': 1,\n",
       " 'updatedColumns': 1,\n",
       " 'updatedCells': 1}"
      ]
     },
     "execution_count": 22,
     "metadata": {},
     "output_type": "execute_result"
    }
   ],
   "source": [
    "HouseHold = IncExp.loc[IncExp['Category'] == \"HouseHold\",\"Account.1\"].sum()\n",
    "#updating Total Household cost in sheet\n",
    "file3.update_cell(14,3,HouseHold)"
   ]
  },
  {
   "cell_type": "markdown",
   "metadata": {
    "id": "Vj7r-wG7B_JC"
   },
   "source": [
    "## Cost incurred in Apparel"
   ]
  },
  {
   "cell_type": "code",
   "execution_count": 23,
   "metadata": {
    "colab": {
     "base_uri": "https://localhost:8080/"
    },
    "id": "NuuGGx_r5hwp",
    "outputId": "e901476f-b665-4436-97a5-5b8668a72962"
   },
   "outputs": [
    {
     "data": {
      "text/plain": [
       "{'spreadsheetId': '17y_BoxosCm9C0oSr2S6J00E3T2qKmjLy6XRbccF1V5c',\n",
       " 'updatedRange': 'Sheet1!C15',\n",
       " 'updatedRows': 1,\n",
       " 'updatedColumns': 1,\n",
       " 'updatedCells': 1}"
      ]
     },
     "execution_count": 23,
     "metadata": {},
     "output_type": "execute_result"
    }
   ],
   "source": [
    "Apparel = IncExp.loc[IncExp['Category'] == \"Apparel\",\"Account.1\"].sum()\n",
    "#updating Total Apparel cost in sheet\n",
    "file3.update_cell(15,3,Apparel)"
   ]
  },
  {
   "cell_type": "markdown",
   "metadata": {
    "id": "z0IlulGmB8uL"
   },
   "source": [
    "## Cost incurred in Education"
   ]
  },
  {
   "cell_type": "code",
   "execution_count": 24,
   "metadata": {
    "colab": {
     "base_uri": "https://localhost:8080/"
    },
    "id": "AhRrsDUT5unZ",
    "outputId": "d7792c5e-0442-4184-b7bf-f3beb44efd68"
   },
   "outputs": [
    {
     "data": {
      "text/plain": [
       "{'spreadsheetId': '17y_BoxosCm9C0oSr2S6J00E3T2qKmjLy6XRbccF1V5c',\n",
       " 'updatedRange': 'Sheet1!C16',\n",
       " 'updatedRows': 1,\n",
       " 'updatedColumns': 1,\n",
       " 'updatedCells': 1}"
      ]
     },
     "execution_count": 24,
     "metadata": {},
     "output_type": "execute_result"
    }
   ],
   "source": [
    "Education = IncExp.loc[IncExp['Category'] == \"Education\",\"Account.1\"].sum()\n",
    "#updating Total Education cost in sheet\n",
    "file3.update_cell(16,3,Education)"
   ]
  },
  {
   "cell_type": "markdown",
   "metadata": {
    "id": "TAzf5lxJB4a6"
   },
   "source": [
    "## Cost incurred in Salary"
   ]
  },
  {
   "cell_type": "code",
   "execution_count": 25,
   "metadata": {
    "colab": {
     "base_uri": "https://localhost:8080/"
    },
    "id": "B4cAdt706CnZ",
    "outputId": "280db27c-42ac-4807-fad8-83ecf40d926e"
   },
   "outputs": [
    {
     "data": {
      "text/plain": [
       "{'spreadsheetId': '17y_BoxosCm9C0oSr2S6J00E3T2qKmjLy6XRbccF1V5c',\n",
       " 'updatedRange': 'Sheet1!C17',\n",
       " 'updatedRows': 1,\n",
       " 'updatedColumns': 1,\n",
       " 'updatedCells': 1}"
      ]
     },
     "execution_count": 25,
     "metadata": {},
     "output_type": "execute_result"
    }
   ],
   "source": [
    "Salary = IncExp.loc[IncExp['Category'] == \"Salary\",\"Account.1\"].sum()\n",
    "#updating Total Salary cost in sheet\n",
    "file3.update_cell(17,3,Salary)"
   ]
  },
  {
   "cell_type": "markdown",
   "metadata": {
    "id": "JFCzWCS-B16A"
   },
   "source": [
    "## Cost incurred in Allowance"
   ]
  },
  {
   "cell_type": "code",
   "execution_count": 26,
   "metadata": {
    "colab": {
     "base_uri": "https://localhost:8080/"
    },
    "id": "PqAd1rdI6Hfx",
    "outputId": "516de291-6be6-4c01-ede1-e07e53f05129"
   },
   "outputs": [
    {
     "data": {
      "text/plain": [
       "{'spreadsheetId': '17y_BoxosCm9C0oSr2S6J00E3T2qKmjLy6XRbccF1V5c',\n",
       " 'updatedRange': 'Sheet1!C18',\n",
       " 'updatedRows': 1,\n",
       " 'updatedColumns': 1,\n",
       " 'updatedCells': 1}"
      ]
     },
     "execution_count": 26,
     "metadata": {},
     "output_type": "execute_result"
    }
   ],
   "source": [
    "Allowance = IncExp.loc[IncExp['Category'] == \"Allowance\",\"Account.1\"].sum()\n",
    "#updating Total Allowance cost in sheet\n",
    "file3.update_cell(18,3,Allowance)"
   ]
  },
  {
   "cell_type": "markdown",
   "metadata": {
    "id": "o77gP_fJBzUp"
   },
   "source": [
    "## Cost incurred in Beauty"
   ]
  },
  {
   "cell_type": "code",
   "execution_count": 27,
   "metadata": {
    "colab": {
     "base_uri": "https://localhost:8080/"
    },
    "id": "EAS-ofq16U1B",
    "outputId": "f9912a04-056a-4f30-d596-945574567edf"
   },
   "outputs": [
    {
     "data": {
      "text/plain": [
       "{'spreadsheetId': '17y_BoxosCm9C0oSr2S6J00E3T2qKmjLy6XRbccF1V5c',\n",
       " 'updatedRange': 'Sheet1!C19',\n",
       " 'updatedRows': 1,\n",
       " 'updatedColumns': 1,\n",
       " 'updatedCells': 1}"
      ]
     },
     "execution_count": 27,
     "metadata": {},
     "output_type": "execute_result"
    }
   ],
   "source": [
    "Beauty = IncExp.loc[IncExp['Category'] == \"Beauty\",\"Account.1\"].sum()\n",
    "#updating Total Beauty cost in sheet\n",
    "file3.update_cell(19,3,Beauty)"
   ]
  },
  {
   "cell_type": "markdown",
   "metadata": {
    "id": "1nRXX6C-BdZp"
   },
   "source": [
    "## Cost incurred in Gift"
   ]
  },
  {
   "cell_type": "code",
   "execution_count": 28,
   "metadata": {
    "colab": {
     "base_uri": "https://localhost:8080/"
    },
    "id": "r8w516m06d17",
    "outputId": "58189422-3e8f-44e7-ae0c-4a74edd17b82"
   },
   "outputs": [
    {
     "data": {
      "text/plain": [
       "{'spreadsheetId': '17y_BoxosCm9C0oSr2S6J00E3T2qKmjLy6XRbccF1V5c',\n",
       " 'updatedRange': 'Sheet1!C20',\n",
       " 'updatedRows': 1,\n",
       " 'updatedColumns': 1,\n",
       " 'updatedCells': 1}"
      ]
     },
     "execution_count": 28,
     "metadata": {},
     "output_type": "execute_result"
    }
   ],
   "source": [
    "Gift = IncExp.loc[IncExp['Category'] == \"Gift\",\"Account.1\"].sum()\n",
    "#updating Total Gift cost in sheet\n",
    "file3.update_cell(20,3,Gift)"
   ]
  },
  {
   "cell_type": "markdown",
   "metadata": {
    "id": "CDe9s-5BBShw"
   },
   "source": [
    "## Cost incurred in Petty Cash"
   ]
  },
  {
   "cell_type": "code",
   "execution_count": 29,
   "metadata": {
    "colab": {
     "base_uri": "https://localhost:8080/"
    },
    "id": "dXlfT4uO6p35",
    "outputId": "eadb12b1-1ed5-44f8-f1ab-cdefa992f7c0"
   },
   "outputs": [
    {
     "data": {
      "text/plain": [
       "{'spreadsheetId': '17y_BoxosCm9C0oSr2S6J00E3T2qKmjLy6XRbccF1V5c',\n",
       " 'updatedRange': 'Sheet1!C21',\n",
       " 'updatedRows': 1,\n",
       " 'updatedColumns': 1,\n",
       " 'updatedCells': 1}"
      ]
     },
     "execution_count": 29,
     "metadata": {},
     "output_type": "execute_result"
    }
   ],
   "source": [
    "Petty_cash = IncExp.loc[IncExp['Category'] == \"Petty cash\",\"Account.1\"].sum()\n",
    "#updating Total Petty cash in sheet\n",
    "file3.update_cell(21,3,Petty_cash)"
   ]
  },
  {
   "cell_type": "markdown",
   "metadata": {
    "id": "icqN4q01234Z"
   },
   "source": [
    "# SUBTASK 2"
   ]
  },
  {
   "cell_type": "markdown",
   "metadata": {
    "id": "WlW--SJVnUWa"
   },
   "source": [
    "Make a new column in Gsheet 1 named “Delta” and populate it with (52 Week High - price)/(52 week High)"
   ]
  },
  {
   "cell_type": "code",
   "execution_count": 30,
   "metadata": {
    "colab": {
     "base_uri": "https://localhost:8080/"
    },
    "id": "06Yq08KxnZoq",
    "outputId": "b37af2d9-5a69-47ee-b4d8-a67b4df4dc1a"
   },
   "outputs": [
    {
     "data": {
      "text/plain": [
       "Index(['Company', 'BSE code', 'NSE code', 'ISIN', 'Sector', 'Industry', 'Date',\n",
       "       'Price', '1 day change(%)', '52 Week Low', '52 Week High', '3 Year Low',\n",
       "       '3 Year High', '5 Year Low', '5 Year High', 'All Time Low',\n",
       "       'All Time High', 'Market Cap(Cr)', 'Enterprise Value(Cr)',\n",
       "       '1-Week Return', '1-Month Return', '3-Month Return(%)',\n",
       "       '1-Year Return(%)', '3-Year Return', '5-Year Return(%)',\n",
       "       '10-Year Return(%)', 'Price to Earnings', 'Median P/E', 'Price to Book',\n",
       "       'Median P/B', 'Earning Yield(%)', 'Price earnings to growth',\n",
       "       'Dividend Yield(%)', 'EV / EBITDA', 'Price / Sales',\n",
       "       'Price / Cash Flow', 'Earning Per Share', 'Book Value Per Share',\n",
       "       'Cash Flow Per Share', 'Free Cash Flow Per Share', 'Dividend Per Share',\n",
       "       'Delta'],\n",
       "      dtype='object')"
      ]
     },
     "execution_count": 30,
     "metadata": {},
     "output_type": "execute_result"
    }
   ],
   "source": [
    "BSE.columns"
   ]
  },
  {
   "cell_type": "code",
   "execution_count": 31,
   "metadata": {
    "id": "EWyUtM5woLn3"
   },
   "outputs": [],
   "source": [
    "Delta = (BSE['52 Week High']- BSE['Price'])/BSE['52 Week High']"
   ]
  },
  {
   "cell_type": "code",
   "execution_count": 32,
   "metadata": {
    "id": "BYaA8-ompiap"
   },
   "outputs": [],
   "source": [
    "BSE[\"Delta\"] = Delta"
   ]
  },
  {
   "cell_type": "code",
   "execution_count": 33,
   "metadata": {
    "colab": {
     "base_uri": "https://localhost:8080/",
     "height": 508
    },
    "id": "VUwKjlhUpq9J",
    "outputId": "90a5d947-7a97-412e-9345-1959ba569668"
   },
   "outputs": [
    {
     "data": {
      "text/html": [
       "<div>\n",
       "<style scoped>\n",
       "    .dataframe tbody tr th:only-of-type {\n",
       "        vertical-align: middle;\n",
       "    }\n",
       "\n",
       "    .dataframe tbody tr th {\n",
       "        vertical-align: top;\n",
       "    }\n",
       "\n",
       "    .dataframe thead th {\n",
       "        text-align: right;\n",
       "    }\n",
       "</style>\n",
       "<table border=\"1\" class=\"dataframe\">\n",
       "  <thead>\n",
       "    <tr style=\"text-align: right;\">\n",
       "      <th></th>\n",
       "      <th>Company</th>\n",
       "      <th>BSE code</th>\n",
       "      <th>NSE code</th>\n",
       "      <th>ISIN</th>\n",
       "      <th>Sector</th>\n",
       "      <th>Industry</th>\n",
       "      <th>Date</th>\n",
       "      <th>Price</th>\n",
       "      <th>1 day change(%)</th>\n",
       "      <th>52 Week Low</th>\n",
       "      <th>...</th>\n",
       "      <th>Dividend Yield(%)</th>\n",
       "      <th>EV / EBITDA</th>\n",
       "      <th>Price / Sales</th>\n",
       "      <th>Price / Cash Flow</th>\n",
       "      <th>Earning Per Share</th>\n",
       "      <th>Book Value Per Share</th>\n",
       "      <th>Cash Flow Per Share</th>\n",
       "      <th>Free Cash Flow Per Share</th>\n",
       "      <th>Dividend Per Share</th>\n",
       "      <th>Delta</th>\n",
       "    </tr>\n",
       "  </thead>\n",
       "  <tbody>\n",
       "    <tr>\n",
       "      <th>0</th>\n",
       "      <td>Sanofi India Ltd.</td>\n",
       "      <td>500674.0</td>\n",
       "      <td>SANOFI</td>\n",
       "      <td>INE058A01010</td>\n",
       "      <td>Healthcare</td>\n",
       "      <td>Drugs &amp; Pharma</td>\n",
       "      <td>2022-09-05</td>\n",
       "      <td>6158.70</td>\n",
       "      <td>0.593726</td>\n",
       "      <td>6086.30</td>\n",
       "      <td>...</td>\n",
       "      <td>7.9533</td>\n",
       "      <td>16.682293</td>\n",
       "      <td>4.980927</td>\n",
       "      <td>25.392209</td>\n",
       "      <td>425.0862</td>\n",
       "      <td>631.6506</td>\n",
       "      <td>242.956522</td>\n",
       "      <td>459.217391</td>\n",
       "      <td>490.0</td>\n",
       "      <td>0.279073</td>\n",
       "    </tr>\n",
       "    <tr>\n",
       "      <th>1</th>\n",
       "      <td>Page Industries Ltd.</td>\n",
       "      <td>532827.0</td>\n",
       "      <td>PAGEIND</td>\n",
       "      <td>INE761H01022</td>\n",
       "      <td>Textiles</td>\n",
       "      <td>Readymade Garments</td>\n",
       "      <td>2022-09-05</td>\n",
       "      <td>49786.20</td>\n",
       "      <td>-0.259937</td>\n",
       "      <td>31500.00</td>\n",
       "      <td>...</td>\n",
       "      <td>0.7433</td>\n",
       "      <td>51.785329</td>\n",
       "      <td>11.748089</td>\n",
       "      <td>169.843663</td>\n",
       "      <td>656.8292</td>\n",
       "      <td>1161.6259</td>\n",
       "      <td>293.088578</td>\n",
       "      <td>191.031917</td>\n",
       "      <td>370.0</td>\n",
       "      <td>0.033278</td>\n",
       "    </tr>\n",
       "    <tr>\n",
       "      <th>2</th>\n",
       "      <td>Procter &amp; Gamble Hygiene &amp; Health Care Ltd.</td>\n",
       "      <td>500459.0</td>\n",
       "      <td>PGHH</td>\n",
       "      <td>INE179A01014</td>\n",
       "      <td>Consumer Staples</td>\n",
       "      <td>Household &amp; Personal Products</td>\n",
       "      <td>2022-09-05</td>\n",
       "      <td>14125.65</td>\n",
       "      <td>0.235943</td>\n",
       "      <td>12801.00</td>\n",
       "      <td>...</td>\n",
       "      <td>1.1318</td>\n",
       "      <td>52.711801</td>\n",
       "      <td>12.100589</td>\n",
       "      <td>53.168596</td>\n",
       "      <td>177.3681</td>\n",
       "      <td>227.2194</td>\n",
       "      <td>265.902649</td>\n",
       "      <td>270.468269</td>\n",
       "      <td>315.0</td>\n",
       "      <td>0.142153</td>\n",
       "    </tr>\n",
       "    <tr>\n",
       "      <th>3</th>\n",
       "      <td>Abbott India Ltd.</td>\n",
       "      <td>500488.0</td>\n",
       "      <td>ABBOTINDIA</td>\n",
       "      <td>INE358A01014</td>\n",
       "      <td>Healthcare</td>\n",
       "      <td>Drugs &amp; Pharma</td>\n",
       "      <td>2022-09-05</td>\n",
       "      <td>18209.00</td>\n",
       "      <td>-1.264759</td>\n",
       "      <td>15514.00</td>\n",
       "      <td>...</td>\n",
       "      <td>1.5100</td>\n",
       "      <td>30.982268</td>\n",
       "      <td>7.730778</td>\n",
       "      <td>40.836169</td>\n",
       "      <td>380.5207</td>\n",
       "      <td>1402.9963</td>\n",
       "      <td>445.957647</td>\n",
       "      <td>446.903529</td>\n",
       "      <td>275.0</td>\n",
       "      <td>0.239214</td>\n",
       "    </tr>\n",
       "    <tr>\n",
       "      <th>4</th>\n",
       "      <td>Bosch Ltd.</td>\n",
       "      <td>500530.0</td>\n",
       "      <td>BOSCHLTD</td>\n",
       "      <td>INE323A01026</td>\n",
       "      <td>Automobile</td>\n",
       "      <td>Auto Ancillaries</td>\n",
       "      <td>2022-09-05</td>\n",
       "      <td>17591.10</td>\n",
       "      <td>0.130919</td>\n",
       "      <td>12932.45</td>\n",
       "      <td>...</td>\n",
       "      <td>1.1937</td>\n",
       "      <td>25.043204</td>\n",
       "      <td>4.027383</td>\n",
       "      <td>192.657100</td>\n",
       "      <td>438.1080</td>\n",
       "      <td>3734.3284</td>\n",
       "      <td>91.288136</td>\n",
       "      <td>46.677966</td>\n",
       "      <td>210.0</td>\n",
       "      <td>0.086177</td>\n",
       "    </tr>\n",
       "  </tbody>\n",
       "</table>\n",
       "<p>5 rows × 42 columns</p>\n",
       "</div>"
      ],
      "text/plain": [
       "                                       Company  BSE code    NSE code  \\\n",
       "0                            Sanofi India Ltd.  500674.0      SANOFI   \n",
       "1                         Page Industries Ltd.  532827.0     PAGEIND   \n",
       "2  Procter & Gamble Hygiene & Health Care Ltd.  500459.0        PGHH   \n",
       "3                            Abbott India Ltd.  500488.0  ABBOTINDIA   \n",
       "4                                   Bosch Ltd.  500530.0    BOSCHLTD   \n",
       "\n",
       "           ISIN            Sector                       Industry        Date  \\\n",
       "0  INE058A01010        Healthcare                 Drugs & Pharma  2022-09-05   \n",
       "1  INE761H01022          Textiles             Readymade Garments  2022-09-05   \n",
       "2  INE179A01014  Consumer Staples  Household & Personal Products  2022-09-05   \n",
       "3  INE358A01014        Healthcare                 Drugs & Pharma  2022-09-05   \n",
       "4  INE323A01026        Automobile               Auto Ancillaries  2022-09-05   \n",
       "\n",
       "      Price  1 day change(%)  52 Week Low  ...  Dividend Yield(%)  \\\n",
       "0   6158.70         0.593726      6086.30  ...             7.9533   \n",
       "1  49786.20        -0.259937     31500.00  ...             0.7433   \n",
       "2  14125.65         0.235943     12801.00  ...             1.1318   \n",
       "3  18209.00        -1.264759     15514.00  ...             1.5100   \n",
       "4  17591.10         0.130919     12932.45  ...             1.1937   \n",
       "\n",
       "   EV / EBITDA  Price / Sales  Price / Cash Flow  Earning Per Share  \\\n",
       "0    16.682293       4.980927          25.392209           425.0862   \n",
       "1    51.785329      11.748089         169.843663           656.8292   \n",
       "2    52.711801      12.100589          53.168596           177.3681   \n",
       "3    30.982268       7.730778          40.836169           380.5207   \n",
       "4    25.043204       4.027383         192.657100           438.1080   \n",
       "\n",
       "   Book Value Per Share  Cash Flow Per Share  Free Cash Flow Per Share  \\\n",
       "0              631.6506           242.956522                459.217391   \n",
       "1             1161.6259           293.088578                191.031917   \n",
       "2              227.2194           265.902649                270.468269   \n",
       "3             1402.9963           445.957647                446.903529   \n",
       "4             3734.3284            91.288136                 46.677966   \n",
       "\n",
       "   Dividend Per Share     Delta  \n",
       "0               490.0  0.279073  \n",
       "1               370.0  0.033278  \n",
       "2               315.0  0.142153  \n",
       "3               275.0  0.239214  \n",
       "4               210.0  0.086177  \n",
       "\n",
       "[5 rows x 42 columns]"
      ]
     },
     "execution_count": 33,
     "metadata": {},
     "output_type": "execute_result"
    }
   ],
   "source": [
    "BSE[BSE[\"Delta\"] >0].head()"
   ]
  },
  {
   "cell_type": "markdown",
   "metadata": {},
   "source": [
    "Finding top 5 companies for each Higher,Lower,Moderate Risks"
   ]
  },
  {
   "cell_type": "markdown",
   "metadata": {},
   "source": [
    "- High Risk Taking"
   ]
  },
  {
   "cell_type": "code",
   "execution_count": 53,
   "metadata": {},
   "outputs": [
    {
     "data": {
      "text/plain": [
       "['MOIL Ltd.',\n",
       " 'Responsive Industries Ltd.',\n",
       " 'Vakrangee Ltd.',\n",
       " 'Hathway Cable & Datacom Ltd.',\n",
       " 'Strides Pharma Science Ltd.']"
      ]
     },
     "execution_count": 53,
     "metadata": {},
     "output_type": "execute_result"
    }
   ],
   "source": [
    "df_HRT = BSE[(BSE[\"Delta\"]>0) & (BSE['Market Cap(Cr)']<4000) & \n",
    "    (BSE['10-Year Return(%)']<8)].sort_values(by = ['Dividend Per Share'],ascending=False).head()\n",
    "\n",
    "# Top 5 Companies\n",
    "top_HRT = df_HRT[\"Company\"].to_list()\n",
    "top_HRT\n"
   ]
  },
  {
   "cell_type": "markdown",
   "metadata": {},
   "source": [
    "- Risk Taking"
   ]
  },
  {
   "cell_type": "code",
   "execution_count": 52,
   "metadata": {},
   "outputs": [
    {
     "data": {
      "text/plain": [
       "['The Great Eastern Shipping Company Ltd.',\n",
       " 'Welspun Corp Ltd.',\n",
       " 'Jyothy Labs Ltd.',\n",
       " 'Gujarat State Fertilizers & Chemicals Ltd.',\n",
       " 'NCC Ltd.']"
      ]
     },
     "execution_count": 52,
     "metadata": {},
     "output_type": "execute_result"
    }
   ],
   "source": [
    "df_RT = BSE[  (BSE[\"Delta\"]>0) & \n",
    "              ((BSE['Market Cap(Cr)']>4000) & (BSE['Market Cap(Cr)']<8000)) & \n",
    "              ((BSE['10-Year Return(%)']>=8) & (BSE['10-Year Return(%)']<15))].sort_values(by = ['Dividend Per Share'],\n",
    "                                                                              ascending=False).head()\n",
    "\n",
    "# Top 5 Companies\n",
    "top_RT = df_RT[\"Company\"].to_list()\n",
    "top_RT"
   ]
  },
  {
   "cell_type": "markdown",
   "metadata": {},
   "source": [
    "- Moderate Risk Taking"
   ]
  },
  {
   "cell_type": "code",
   "execution_count": 54,
   "metadata": {},
   "outputs": [
    {
     "data": {
      "text/plain": [
       "['Cyient Ltd.',\n",
       " 'Chambal Fertilisers & Chemicals Ltd.',\n",
       " 'Redington India Ltd.',\n",
       " 'BASF India Ltd.',\n",
       " 'Zydus Wellness Ltd.']"
      ]
     },
     "execution_count": 54,
     "metadata": {},
     "output_type": "execute_result"
    }
   ],
   "source": [
    "df_MRT = BSE[  (BSE[\"Delta\"]>0) & \n",
    "              ((BSE['Market Cap(Cr)']>8000) & (BSE['Market Cap(Cr)']<15000)) & \n",
    "              ((BSE['10-Year Return(%)']>=15) & (BSE['10-Year Return(%)']<20))].sort_values(by = ['Dividend Per Share'],\n",
    "                                                                              ascending=False).head()\n",
    "\n",
    "# Top 5 Companies\n",
    "top_MRT = df_MRT[\"Company\"].to_list()\n",
    "top_MRT"
   ]
  },
  {
   "cell_type": "markdown",
   "metadata": {},
   "source": [
    "- Low Risk Taking"
   ]
  },
  {
   "cell_type": "code",
   "execution_count": 55,
   "metadata": {},
   "outputs": [
    {
     "data": {
      "text/plain": [
       "['Page Industries Ltd.',\n",
       " 'Abbott India Ltd.',\n",
       " 'MRF Ltd.',\n",
       " 'Bajaj Holdings & Investment Ltd.',\n",
       " 'Honeywell Automation India Ltd.']"
      ]
     },
     "execution_count": 55,
     "metadata": {},
     "output_type": "execute_result"
    }
   ],
   "source": [
    "df_LRT = BSE[(BSE[\"Delta\"]>0) & (BSE['Market Cap(Cr)']>15000) & \n",
    "    (BSE['10-Year Return(%)']>=20)].sort_values(by = ['Dividend Per Share'],ascending=False).head()\n",
    "\n",
    "# Top 5 Companies\n",
    "top_LRT = df_LRT[\"Company\"].to_list()\n",
    "top_LRT\n"
   ]
  },
  {
   "cell_type": "code",
   "execution_count": 41,
   "metadata": {},
   "outputs": [],
   "source": [
    "\n",
    "no = str(file3.cell(24,3).value)     #Defining variable for investment cell\n",
    "no =no.replace(\",\",\"\")\n",
    "ava_invest =float(no)\n"
   ]
  },
  {
   "cell_type": "markdown",
   "metadata": {},
   "source": [
    "Changing dropdown - IF else condition "
   ]
  },
  {
   "cell_type": "code",
   "execution_count": 57,
   "metadata": {},
   "outputs": [],
   "source": [
    "m = file3.cell(24,3)\n",
    "\n",
    "if m.value == \"Moderate Risk Taking\":\n",
    "    for i in range(1,6):\n",
    "        file3.update_cell(10+i,6,top_MRT[i-1])\n",
    "        file3.update_cell(10+i,7,ava_invest/5)\n",
    "elif m.value == \"High Risk Taking\":\n",
    "    for i in range(1,6):\n",
    "        file3.update_cell(10+i,6,top_HRT[i-1])\n",
    "        file3.update_cell(10+i,7,ava_invest/5)\n",
    "elif m.value == \"Low Risk Taking\":\n",
    "    for i in range(1,6):\n",
    "        file3.update_cell(10+i,6,top_LRT[i-1])\n",
    "        file3.update_cell(10+i,7,ava_invest/5) \n",
    "else :\n",
    "    for i in range(1,6):\n",
    "        file3.update_cell(10+i,6,top_RT[i-1])\n",
    "        file3.update_cell(10+i,7,ava_invest/5)           "
   ]
  },
  {
   "cell_type": "markdown",
   "metadata": {
    "id": "Py43pHn427ua"
   },
   "source": [
    "# SUBTASK 3"
   ]
  },
  {
   "cell_type": "markdown",
   "metadata": {
    "id": "_vRgUuOa2-FL"
   },
   "source": [
    "Compare the median of column Enterprise Value(Cr) across different Sectors. \n",
    "For instance,what is the median enterprise value of Technology sector as compared to Services sector."
   ]
  },
  {
   "cell_type": "code",
   "execution_count": 44,
   "metadata": {},
   "outputs": [],
   "source": [
    "import seaborn as sns"
   ]
  },
  {
   "cell_type": "code",
   "execution_count": 45,
   "metadata": {},
   "outputs": [
    {
     "data": {
      "text/html": [
       "<div>\n",
       "<style scoped>\n",
       "    .dataframe tbody tr th:only-of-type {\n",
       "        vertical-align: middle;\n",
       "    }\n",
       "\n",
       "    .dataframe tbody tr th {\n",
       "        vertical-align: top;\n",
       "    }\n",
       "\n",
       "    .dataframe thead th {\n",
       "        text-align: right;\n",
       "    }\n",
       "</style>\n",
       "<table border=\"1\" class=\"dataframe\">\n",
       "  <thead>\n",
       "    <tr style=\"text-align: right;\">\n",
       "      <th></th>\n",
       "      <th>Sector</th>\n",
       "      <th>Enterprise Value(Cr)</th>\n",
       "    </tr>\n",
       "  </thead>\n",
       "  <tbody>\n",
       "    <tr>\n",
       "      <th>0</th>\n",
       "      <td>Automobile</td>\n",
       "      <td>35909.058989</td>\n",
       "    </tr>\n",
       "    <tr>\n",
       "      <th>1</th>\n",
       "      <td>Capital Goods</td>\n",
       "      <td>12998.279783</td>\n",
       "    </tr>\n",
       "    <tr>\n",
       "      <th>2</th>\n",
       "      <td>Chemicals</td>\n",
       "      <td>13704.383222</td>\n",
       "    </tr>\n",
       "    <tr>\n",
       "      <th>3</th>\n",
       "      <td>Communication</td>\n",
       "      <td>42214.500000</td>\n",
       "    </tr>\n",
       "    <tr>\n",
       "      <th>4</th>\n",
       "      <td>Construction</td>\n",
       "      <td>10062.273456</td>\n",
       "    </tr>\n",
       "    <tr>\n",
       "      <th>5</th>\n",
       "      <td>Consumer Discretionary</td>\n",
       "      <td>13239.340020</td>\n",
       "    </tr>\n",
       "    <tr>\n",
       "      <th>6</th>\n",
       "      <td>Consumer Staples</td>\n",
       "      <td>16451.253229</td>\n",
       "    </tr>\n",
       "    <tr>\n",
       "      <th>7</th>\n",
       "      <td>Diversified</td>\n",
       "      <td>24475.606015</td>\n",
       "    </tr>\n",
       "    <tr>\n",
       "      <th>8</th>\n",
       "      <td>Energy</td>\n",
       "      <td>63786.424084</td>\n",
       "    </tr>\n",
       "    <tr>\n",
       "      <th>9</th>\n",
       "      <td>Financial</td>\n",
       "      <td>31462.740540</td>\n",
       "    </tr>\n",
       "    <tr>\n",
       "      <th>10</th>\n",
       "      <td>Healthcare</td>\n",
       "      <td>13374.632470</td>\n",
       "    </tr>\n",
       "    <tr>\n",
       "      <th>11</th>\n",
       "      <td>Insurance</td>\n",
       "      <td>73724.110333</td>\n",
       "    </tr>\n",
       "    <tr>\n",
       "      <th>12</th>\n",
       "      <td>Materials</td>\n",
       "      <td>12834.114629</td>\n",
       "    </tr>\n",
       "    <tr>\n",
       "      <th>13</th>\n",
       "      <td>Metals &amp; Mining</td>\n",
       "      <td>16216.105322</td>\n",
       "    </tr>\n",
       "    <tr>\n",
       "      <th>14</th>\n",
       "      <td>Others</td>\n",
       "      <td>13393.365475</td>\n",
       "    </tr>\n",
       "    <tr>\n",
       "      <th>15</th>\n",
       "      <td>Services</td>\n",
       "      <td>9644.628564</td>\n",
       "    </tr>\n",
       "    <tr>\n",
       "      <th>16</th>\n",
       "      <td>Technology</td>\n",
       "      <td>15692.092620</td>\n",
       "    </tr>\n",
       "    <tr>\n",
       "      <th>17</th>\n",
       "      <td>Textiles</td>\n",
       "      <td>10884.825792</td>\n",
       "    </tr>\n",
       "  </tbody>\n",
       "</table>\n",
       "</div>"
      ],
      "text/plain": [
       "                    Sector  Enterprise Value(Cr)\n",
       "0               Automobile          35909.058989\n",
       "1            Capital Goods          12998.279783\n",
       "2                Chemicals          13704.383222\n",
       "3            Communication          42214.500000\n",
       "4             Construction          10062.273456\n",
       "5   Consumer Discretionary          13239.340020\n",
       "6         Consumer Staples          16451.253229\n",
       "7              Diversified          24475.606015\n",
       "8                   Energy          63786.424084\n",
       "9                Financial          31462.740540\n",
       "10              Healthcare          13374.632470\n",
       "11               Insurance          73724.110333\n",
       "12               Materials          12834.114629\n",
       "13         Metals & Mining          16216.105322\n",
       "14                  Others          13393.365475\n",
       "15                Services           9644.628564\n",
       "16              Technology          15692.092620\n",
       "17                Textiles          10884.825792"
      ]
     },
     "execution_count": 45,
     "metadata": {},
     "output_type": "execute_result"
    }
   ],
   "source": [
    "data = BSE[[\"Enterprise Value(Cr)\",\"Sector\"]].groupby([\"Sector\"]).median()\n",
    "data.reset_index(inplace = True)\n",
    "data"
   ]
  },
  {
   "cell_type": "code",
   "execution_count": 69,
   "metadata": {},
   "outputs": [
    {
     "data": {
      "image/png": "[encoded data removed]",
      "text/plain": [
       "<Figure size 2160x1440 with 1 Axes>"
      ]
     },
     "metadata": {},
     "output_type": "display_data"
    }
   ],
   "source": [
    "x = data[\"Sector\"]\n",
    "y = data[\"Enterprise Value(Cr)\"]\n",
    "sns.barplot(x= x,y = y ,data = data)\n",
    "sns.set(rc = {\"figure.figsize\":(20,25)})"
   ]
  },
  {
   "cell_type": "markdown",
   "metadata": {},
   "source": [
    " a relation between Dividend Per Share with Market Cap(Cr)"
   ]
  },
  {
   "cell_type": "code",
   "execution_count": 56,
   "metadata": {},
   "outputs": [
    {
     "data": {
      "image/png": "[encoded data removed]",
      "text/plain": [
       "<Figure size 1080x720 with 1 Axes>"
      ]
     },
     "metadata": {},
     "output_type": "display_data"
    }
   ],
   "source": [
    "sns.scatterplot(x = BSE[\"Market Cap(Cr)\"] ,y = BSE['Dividend Per Share'])\n",
    "sns.set(rc = {\"figure.figsize\":(15,10)})"
   ]
  },
  {
   "cell_type": "markdown",
   "metadata": {},
   "source": [
    "Count the companies in different Industry with positive and negative 3-Year Return. For instance how many companies in Drugs & Pharma industry have positive 3-Year Return and how many have that negative. Basis this, decide which industry would you recommend someone to invest if the same return is followed"
   ]
  },
  {
   "cell_type": "code",
   "execution_count": 86,
   "metadata": {},
   "outputs": [
    {
     "data": {
      "text/html": [
       "<div>\n",
       "<style scoped>\n",
       "    .dataframe tbody tr th:only-of-type {\n",
       "        vertical-align: middle;\n",
       "    }\n",
       "\n",
       "    .dataframe tbody tr th {\n",
       "        vertical-align: top;\n",
       "    }\n",
       "\n",
       "    .dataframe thead th {\n",
       "        text-align: right;\n",
       "    }\n",
       "</style>\n",
       "<table border=\"1\" class=\"dataframe\">\n",
       "  <thead>\n",
       "    <tr style=\"text-align: right;\">\n",
       "      <th></th>\n",
       "      <th>Industry</th>\n",
       "      <th>Company_x</th>\n",
       "      <th>Company_y</th>\n",
       "    </tr>\n",
       "  </thead>\n",
       "  <tbody>\n",
       "    <tr>\n",
       "      <th>0</th>\n",
       "      <td>ACs &amp; Refrigerators</td>\n",
       "      <td>2</td>\n",
       "      <td>4</td>\n",
       "    </tr>\n",
       "    <tr>\n",
       "      <th>1</th>\n",
       "      <td>Air Transport</td>\n",
       "      <td>1</td>\n",
       "      <td>1</td>\n",
       "    </tr>\n",
       "    <tr>\n",
       "      <th>2</th>\n",
       "      <td>Asset Management Companies</td>\n",
       "      <td>1</td>\n",
       "      <td>1</td>\n",
       "    </tr>\n",
       "    <tr>\n",
       "      <th>3</th>\n",
       "      <td>Auto Ancillaries</td>\n",
       "      <td>1</td>\n",
       "      <td>9</td>\n",
       "    </tr>\n",
       "    <tr>\n",
       "      <th>4</th>\n",
       "      <td>Banking</td>\n",
       "      <td>10</td>\n",
       "      <td>15</td>\n",
       "    </tr>\n",
       "    <tr>\n",
       "      <th>5</th>\n",
       "      <td>Cement</td>\n",
       "      <td>1</td>\n",
       "      <td>13</td>\n",
       "    </tr>\n",
       "    <tr>\n",
       "      <th>6</th>\n",
       "      <td>Communication Equipment</td>\n",
       "      <td>1</td>\n",
       "      <td>3</td>\n",
       "    </tr>\n",
       "    <tr>\n",
       "      <th>7</th>\n",
       "      <td>Construction</td>\n",
       "      <td>2</td>\n",
       "      <td>5</td>\n",
       "    </tr>\n",
       "    <tr>\n",
       "      <th>8</th>\n",
       "      <td>Drugs &amp; Pharma</td>\n",
       "      <td>5</td>\n",
       "      <td>31</td>\n",
       "    </tr>\n",
       "    <tr>\n",
       "      <th>9</th>\n",
       "      <td>E-Commerce</td>\n",
       "      <td>1</td>\n",
       "      <td>3</td>\n",
       "    </tr>\n",
       "    <tr>\n",
       "      <th>10</th>\n",
       "      <td>Food Processing</td>\n",
       "      <td>1</td>\n",
       "      <td>2</td>\n",
       "    </tr>\n",
       "    <tr>\n",
       "      <th>11</th>\n",
       "      <td>Gems, Jewellery &amp; Accessories</td>\n",
       "      <td>1</td>\n",
       "      <td>2</td>\n",
       "    </tr>\n",
       "    <tr>\n",
       "      <th>12</th>\n",
       "      <td>General Insurance</td>\n",
       "      <td>1</td>\n",
       "      <td>1</td>\n",
       "    </tr>\n",
       "    <tr>\n",
       "      <th>13</th>\n",
       "      <td>Household &amp; Personal Products</td>\n",
       "      <td>1</td>\n",
       "      <td>7</td>\n",
       "    </tr>\n",
       "    <tr>\n",
       "      <th>14</th>\n",
       "      <td>Housing Finance</td>\n",
       "      <td>2</td>\n",
       "      <td>5</td>\n",
       "    </tr>\n",
       "    <tr>\n",
       "      <th>15</th>\n",
       "      <td>Media &amp; Entertainment</td>\n",
       "      <td>1</td>\n",
       "      <td>4</td>\n",
       "    </tr>\n",
       "    <tr>\n",
       "      <th>16</th>\n",
       "      <td>Misc. Fin.services</td>\n",
       "      <td>5</td>\n",
       "      <td>9</td>\n",
       "    </tr>\n",
       "    <tr>\n",
       "      <th>17</th>\n",
       "      <td>Natural Gas Utilities</td>\n",
       "      <td>1</td>\n",
       "      <td>6</td>\n",
       "    </tr>\n",
       "    <tr>\n",
       "      <th>18</th>\n",
       "      <td>Oil Refineries &amp; Marketing</td>\n",
       "      <td>3</td>\n",
       "      <td>2</td>\n",
       "    </tr>\n",
       "    <tr>\n",
       "      <th>19</th>\n",
       "      <td>Power Projects</td>\n",
       "      <td>2</td>\n",
       "      <td>3</td>\n",
       "    </tr>\n",
       "    <tr>\n",
       "      <th>20</th>\n",
       "      <td>SIDCs/SFCs</td>\n",
       "      <td>1</td>\n",
       "      <td>2</td>\n",
       "    </tr>\n",
       "    <tr>\n",
       "      <th>21</th>\n",
       "      <td>Telecom Services</td>\n",
       "      <td>1</td>\n",
       "      <td>4</td>\n",
       "    </tr>\n",
       "    <tr>\n",
       "      <th>22</th>\n",
       "      <td>Tobacco Products</td>\n",
       "      <td>1</td>\n",
       "      <td>2</td>\n",
       "    </tr>\n",
       "  </tbody>\n",
       "</table>\n",
       "</div>"
      ],
      "text/plain": [
       "                         Industry  Company_x  Company_y\n",
       "0             ACs & Refrigerators          2          4\n",
       "1                   Air Transport          1          1\n",
       "2      Asset Management Companies          1          1\n",
       "3                Auto Ancillaries          1          9\n",
       "4                         Banking         10         15\n",
       "5                          Cement          1         13\n",
       "6         Communication Equipment          1          3\n",
       "7                    Construction          2          5\n",
       "8                  Drugs & Pharma          5         31\n",
       "9                      E-Commerce          1          3\n",
       "10                Food Processing          1          2\n",
       "11  Gems, Jewellery & Accessories          1          2\n",
       "12              General Insurance          1          1\n",
       "13  Household & Personal Products          1          7\n",
       "14                Housing Finance          2          5\n",
       "15          Media & Entertainment          1          4\n",
       "16             Misc. Fin.services          5          9\n",
       "17          Natural Gas Utilities          1          6\n",
       "18     Oil Refineries & Marketing          3          2\n",
       "19                 Power Projects          2          3\n",
       "20                     SIDCs/SFCs          1          2\n",
       "21               Telecom Services          1          4\n",
       "22               Tobacco Products          1          2"
      ]
     },
     "execution_count": 86,
     "metadata": {},
     "output_type": "execute_result"
    }
   ],
   "source": [
    "df1 = BSE.loc[BSE[\"3-Year Return\"]<0,[\"Industry\",\"Company\"]].groupby(\"Industry\").count().reset_index()\n",
    "df2 = BSE.loc[BSE[\"3-Year Return\"]>0,[\"Industry\",\"Company\"]].groupby(\"Industry\").count().reset_index()\n",
    "df1.merge(df2,how = \"inner\",on = \"Industry\")"
   ]
  },
  {
   "cell_type": "markdown",
   "metadata": {},
   "source": [
    "Come up with any one KPI which can help define the best stock across different Sector, you may need to learn a little bit of Finance for the same"
   ]
  },
  {
   "cell_type": "markdown",
   "metadata": {},
   "source": [
    "### Average 1 year Return Percentage"
   ]
  }
 ],
 "metadata": {
  "colab": {
   "provenance": []
  },
  "kernelspec": {
   "display_name": "Python 3 (ipykernel)",
   "language": "python",
   "name": "python3"
  },
  "language_info": {
   "codemirror_mode": {
    "name": "ipython",
    "version": 3
   },
   "file_extension": ".py",
   "mimetype": "text/x-python",
   "name": "python",
   "nbconvert_exporter": "python",
   "pygments_lexer": "ipython3",
   "version": "3.9.12"
  }
 },
 "nbformat": 4,
 "nbformat_minor": 1
}
